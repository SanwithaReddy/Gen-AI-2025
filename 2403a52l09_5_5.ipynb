{
  "nbformat": 4,
  "nbformat_minor": 0,
  "metadata": {
    "colab": {
      "provenance": [],
      "authorship_tag": "ABX9TyP5LL2j9HLjE2y/G4UN8Oiz",
      "include_colab_link": true
    },
    "kernelspec": {
      "name": "python3",
      "display_name": "Python 3"
    },
    "language_info": {
      "name": "python"
    }
  },
  "cells": [
    {
      "cell_type": "markdown",
      "metadata": {
        "id": "view-in-github",
        "colab_type": "text"
      },
      "source": [
        "<a href=\"https://colab.research.google.com/github/SanwithaReddy/Gen-AI-2025/blob/main/2403a52l09_5_5.ipynb\" target=\"_parent\"><img src=\"https://colab.research.google.com/assets/colab-badge.svg\" alt=\"Open In Colab\"/></a>"
      ]
    },
    {
      "cell_type": "code",
      "source": [
        "import numpy as np\n",
        "\n",
        "def sigmoid(x):\n",
        "    return 1 / (1 + np.exp(-x))\n",
        "\n",
        "def sigmoid_derivative(x):\n",
        "    return x * (1 - x)\n",
        "\n",
        "def mean_squared_error(y_true, y_pred):\n",
        "    return np.mean((y_true - y_pred) ** 2)\n",
        "\n",
        "X_train = np.array([[1, 2], [2, 3], [5, 6], [6, 7], [7, 8], [8, 9]])\n",
        "y_train = np.array([[0.4140], [0.4611], [0.5501], [0.5656], [0.5765], [0.5840]])\n",
        "\n",
        "X_test = np.array([[3, 4], [4, 5]])\n",
        "y_test = np.array([[0.4992], [0.5285]])\n",
        "\n",
        "input_neurons = 2\n",
        "hidden_neurons = 4\n",
        "output_neurons = 1\n",
        "learning_rate = 0.01\n",
        "epochs = 10000\n",
        "\n",
        "np.random.seed(42)\n",
        "W1 = np.random.rand(input_neurons, hidden_neurons)\n",
        "b1 = np.random.rand(hidden_neurons)\n",
        "W2 = np.random.rand(hidden_neurons, output_neurons)\n",
        "b2 = np.random.rand(output_neurons)\n",
        "\n",
        "for epoch in range(epochs):\n",
        "\n",
        "    hidden_layer_input = np.dot(X_train, W1) + b1\n",
        "    hidden_layer_output = sigmoid(hidden_layer_input)\n",
        "\n",
        "    output_layer_input = np.dot(hidden_layer_output, W2) + b2\n",
        "    predicted_output = output_layer_input\n",
        "\n",
        "    error = y_train - predicted_output\n",
        "    mse = mean_squared_error(y_train, predicted_output)\n",
        "\n",
        "    output_layer_gradient = -2 * error\n",
        "    hidden_layer_gradient = output_layer_gradient.dot(W2.T) * sigmoid_derivative(hidden_layer_output)\n",
        "\n",
        "    W2 -= learning_rate * hidden_layer_output.T.dot(output_layer_gradient)\n",
        "    b2 -= learning_rate * np.sum(output_layer_gradient, axis=0)\n",
        "\n",
        "    W1 -= learning_rate * X_train.T.dot(hidden_layer_gradient)\n",
        "    b1 -= learning_rate * np.sum(hidden_layer_gradient, axis=0)\n",
        "\n",
        "    if epoch % 1000 == 0:\n",
        "        print(f\"Epoch {epoch}, MSE: {mse:.6f}\")\n",
        "\n",
        "hidden_layer_test = sigmoid(np.dot(X_test, W1) + b1)\n",
        "y_pred_test = np.dot(hidden_layer_test, W2) + b2\n",
        "\n",
        "test_mse = mean_squared_error(y_test, y_pred_test)\n",
        "print(f\"\\nFinal Training MSE: {mse:.6f}\")\n",
        "print(f\"Test MSE: {test_mse:.6f}\")\n",
        "\n",
        "x1, x2 = map(float, input(\"Enter values for x1 and x2: \").split())\n",
        "user_input = np.array([[x1, x2]])\n",
        "hidden_layer_user = sigmoid(np.dot(user_input, W1) + b1)\n",
        "user_prediction = np.dot(hidden_layer_user, W2) + b2\n",
        "\n",
        "print(f\"Predicted output for input ({x1}, {x2}): {user_prediction[0][0]:.6f}\")"
      ],
      "metadata": {
        "colab": {
          "base_uri": "https://localhost:8080/"
        },
        "id": "4co8s2V_7GCQ",
        "outputId": "47f1d8c0-f48e-4387-cdbc-6ea47082845e"
      },
      "execution_count": 3,
      "outputs": [
        {
          "output_type": "stream",
          "name": "stdout",
          "text": [
            "Epoch 0, MSE: 1.228961\n",
            "Epoch 1000, MSE: 0.000007\n",
            "Epoch 2000, MSE: 0.000000\n",
            "Epoch 3000, MSE: 0.000000\n",
            "Epoch 4000, MSE: 0.000000\n",
            "Epoch 5000, MSE: 0.000000\n",
            "Epoch 6000, MSE: 0.000000\n",
            "Epoch 7000, MSE: 0.000000\n",
            "Epoch 8000, MSE: 0.000000\n",
            "Epoch 9000, MSE: 0.000000\n",
            "\n",
            "Final Training MSE: 0.000000\n",
            "Test MSE: 0.000000\n",
            "Enter values for x1 and x2: 1 2\n",
            "Predicted output for input (1.0, 2.0): 0.414097\n"
          ]
        }
      ]
    }
  ]
}